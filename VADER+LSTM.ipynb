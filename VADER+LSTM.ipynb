{
  "cells": [
    {
      "attachments": {},
      "cell_type": "markdown",
      "metadata": {},
      "source": [
        "## Implementasi Metode VADER-LSTM dalam Pengujian Pengaruh Sentimen Investor terhadap Prediksi Harga Saham"
      ]
    },
    {
      "cell_type": "code",
      "execution_count": 1,
      "metadata": {
        "colab": {
          "base_uri": "https://localhost:8080/"
        },
        "id": "Ljaywiikl4zP",
        "outputId": "49b92a99-8e67-4e03-e2b4-4c7eb7f33112"
      },
      "outputs": [
        {
          "name": "stderr",
          "output_type": "stream",
          "text": [
            "[nltk_data] Downloading package vader_lexicon to\n",
            "[nltk_data]     C:\\Users\\ravie\\AppData\\Roaming\\nltk_data...\n",
            "[nltk_data]   Package vader_lexicon is already up-to-date!\n",
            "[nltk_data] Downloading package punkt to\n",
            "[nltk_data]     C:\\Users\\ravie\\AppData\\Roaming\\nltk_data...\n",
            "[nltk_data]   Package punkt is already up-to-date!\n",
            "[nltk_data] Downloading package stopwords to\n",
            "[nltk_data]     C:\\Users\\ravie\\AppData\\Roaming\\nltk_data...\n",
            "[nltk_data]   Package stopwords is already up-to-date!\n"
          ]
        },
        {
          "data": {
            "text/plain": [
              "True"
            ]
          },
          "execution_count": 1,
          "metadata": {},
          "output_type": "execute_result"
        }
      ],
      "source": [
        "import math\n",
        "import nltk\n",
        "import unicodedata\n",
        "import time\n",
        "import numpy as np\n",
        "import pandas as pd\n",
        "import matplotlib.pyplot as plt\n",
        "import matplotlib.ticker as ticker\n",
        "import matplotlib.dates as dt\n",
        "from matplotlib.dates import DateFormatter\n",
        "from nltk.sentiment.vader import SentimentIntensityAnalyzer\n",
        "from sklearn.preprocessing import MinMaxScaler\n",
        "from keras import Sequential\n",
        "from keras.layers import LSTM, Dense, Dropout\n",
        "from keras import models as md\n",
        "nltk.download('vader_lexicon')\n",
        "nltk.download('punkt')\n",
        "nltk.download('stopwords')"
      ]
    },
    {
      "cell_type": "code",
      "execution_count": null,
      "metadata": {},
      "outputs": [],
      "source": [
        "import tensorflow as tf\n",
        "tf.version.VERSION"
      ]
    },
    {
      "cell_type": "code",
      "execution_count": null,
      "metadata": {
        "id": "PoB1vjA469iM"
      },
      "outputs": [],
      "source": [
        "company = \"TSLA\""
      ]
    },
    {
      "cell_type": "markdown",
      "metadata": {},
      "source": [
        "### Importing Tweet Data"
      ]
    },
    {
      "cell_type": "code",
      "execution_count": null,
      "metadata": {
        "colab": {
          "base_uri": "https://localhost:8080/",
          "height": 250
        },
        "id": "s4gocCIkkUkY",
        "outputId": "e5a6b992-2edf-4d84-d7ee-5fa4f03d4a2f"
      },
      "outputs": [],
      "source": [
        "all_tweets = pd.read_csv(\"stock_tweets.csv\")\n",
        "print(all_tweets.shape)\n",
        "all_tweets"
      ]
    },
    {
      "cell_type": "code",
      "execution_count": null,
      "metadata": {
        "colab": {
          "base_uri": "https://localhost:8080/",
          "height": 206
        },
        "id": "Hm4AXNZCk2el",
        "outputId": "319b5eda-637b-4401-be8a-d5843f2fb11b"
      },
      "outputs": [],
      "source": [
        "tweet_df = all_tweets[all_tweets['Stock Name'] == company]\n",
        "tweet_df = tweet_df.drop(['Company Name', 'Stock Name'], axis=1)\n",
        "tweet_df['Date'] = pd.to_datetime(tweet_df['Date']).dt.date\n",
        "tweet_df"
      ]
    },
    {
      "cell_type": "markdown",
      "metadata": {},
      "source": [
        "#### Pre-processing the tweets"
      ]
    },
    {
      "cell_type": "code",
      "execution_count": null,
      "metadata": {},
      "outputs": [],
      "source": [
        "processed_df = tweet_df.copy()\n",
        "processed_df"
      ]
    },
    {
      "cell_type": "code",
      "execution_count": null,
      "metadata": {},
      "outputs": [],
      "source": [
        "def preprocess_tweet(tweet):\n",
        "    '''\n",
        "    Takes a tweet as an input and output the list of tokens.\n",
        "    '''\n",
        "    \n",
        "    import emoji\n",
        "    import re\n",
        "    from nltk import word_tokenize\n",
        "    from nltk.corpus import stopwords\n",
        "    from nltk.stem import PorterStemmer\n",
        "    \n",
        "    # Initialization\n",
        "    new_tweet = tweet\n",
        "    \n",
        "    ## Changes on string\n",
        "    \n",
        "    # Remove urls\n",
        "    new_tweet = re.sub(r'https?://[^ ]+', '', new_tweet)\n",
        "    \n",
        "    # Remove usernames\n",
        "    new_tweet = re.sub(r'@[^ ]+', '', new_tweet)\n",
        "    \n",
        "    # Remove hashtags\n",
        "    new_tweet = re.sub(r'#', '', new_tweet)\n",
        "    \n",
        "    # Character normalization\n",
        "    new_tweet = re.sub(r'([A-Za-z])\\1{2,}', r'\\1', new_tweet)\n",
        "    \n",
        "    # Emoji transformation\n",
        "    new_tweet = emoji.demojize(new_tweet)\n",
        "    \n",
        "    # Punctuation and special characters\n",
        "    new_tweet = re.sub(r' 0 ', 'zero', new_tweet)\n",
        "    new_tweet = re.sub(r'[^A-Za-z ]', '', new_tweet)\n",
        "    \n",
        "    # Lower casing\n",
        "    new_tweet = new_tweet.lower()\n",
        "    \n",
        "    \n",
        "    ## Changes on tokens\n",
        "    \n",
        "    # Tokenization\n",
        "    tokens = word_tokenize(new_tweet)\n",
        "    \n",
        "    porter = PorterStemmer()\n",
        "\n",
        "    for token in tokens:\n",
        "        # Stopwords removal\n",
        "        if token in stopwords.words('english'):\n",
        "            tokens.remove(token)\n",
        "        # Stemming\n",
        "        token = porter.stem(token)\n",
        "    \n",
        "    return ' '.join(tokens)\n",
        "    # return tokens"
      ]
    },
    {
      "cell_type": "code",
      "execution_count": null,
      "metadata": {},
      "outputs": [],
      "source": [
        "for indx, row in processed_df.T.items():\n",
        "    try:\n",
        "        processed_df.at[indx, 'Tweet'] = preprocess_tweet(processed_df.at[indx, 'Tweet'])\n",
        "    except TypeError:\n",
        "        break"
      ]
    },
    {
      "cell_type": "code",
      "execution_count": null,
      "metadata": {},
      "outputs": [],
      "source": [
        "processed_df.to_csv('tweet_processed.csv', index=False)"
      ]
    },
    {
      "cell_type": "markdown",
      "metadata": {},
      "source": [
        "#### Labeling the tweets with VADER"
      ]
    },
    {
      "cell_type": "code",
      "execution_count": null,
      "metadata": {},
      "outputs": [],
      "source": [
        "processed_df = pd.read_csv('tweet_processed.csv')\n",
        "processed_df['Date'] = pd.to_datetime(processed_df['Date'])\n",
        "processed_df['Tweet'] = processed_df['Tweet'].astype(str)\n",
        "processed_df['Date'] = pd.to_datetime(processed_df['Date'])\n",
        "processed_df"
      ]
    },
    {
      "cell_type": "code",
      "execution_count": null,
      "metadata": {},
      "outputs": [],
      "source": [
        "sentiment_analyzer = SentimentIntensityAnalyzer()\n",
        "for indx, row in processed_df.T.items():\n",
        "    try:\n",
        "        sentence_sentiment = sentiment_analyzer.polarity_scores(processed_df.loc[indx, 'Tweet'])\n",
        "        processed_df.at[indx, 'Negative'] = sentence_sentiment['neg']\n",
        "        processed_df.at[indx, 'Neutral'] = sentence_sentiment['neu']\n",
        "        processed_df.at[indx, 'Positive'] = sentence_sentiment['pos']\n",
        "        processed_df.at[indx, 'Compound'] = sentence_sentiment['compound']\n",
        "    except TypeError:\n",
        "        print (processed_df.loc[indx, 'Tweet'])\n",
        "        print (indx)\n",
        "        break"
      ]
    },
    {
      "cell_type": "code",
      "execution_count": null,
      "metadata": {},
      "outputs": [],
      "source": [
        "processed_df.to_csv('tweet_processed_labeled.csv', index=False)"
      ]
    },
    {
      "cell_type": "code",
      "execution_count": null,
      "metadata": {},
      "outputs": [],
      "source": [
        "processed_df = pd.read_csv('tweet_processed_labeled.csv')\n",
        "processed_df['Date'] = pd.to_datetime(processed_df['Date'])\n",
        "processed_df['Date'] = processed_df['Date'].dt.date\n",
        "processed_df"
      ]
    },
    {
      "cell_type": "code",
      "execution_count": null,
      "metadata": {},
      "outputs": [],
      "source": [
        "labeled_tweets_df = processed_df.copy()\n",
        "\n",
        "for indx, row in processed_df.T.items():\n",
        "    if (processed_df.at[indx, 'Compound'] > 0.5):\n",
        "        labeled_tweets_df.at[indx, 'Sentiment'] = 'Positive'\n",
        "    elif (processed_df.at[indx, 'Compound'] < -0.5):\n",
        "        labeled_tweets_df.at[indx, 'Sentiment'] = 'Negative'\n",
        "    else:\n",
        "        labeled_tweets_df.at[indx, 'Sentiment'] = 'Neutral'"
      ]
    },
    {
      "cell_type": "code",
      "execution_count": null,
      "metadata": {},
      "outputs": [],
      "source": [
        "labeled_tweets_df"
      ]
    },
    {
      "cell_type": "code",
      "execution_count": null,
      "metadata": {},
      "outputs": [],
      "source": [
        "fig, ax = plt.subplots()\n",
        "bar_colors = ['grey', 'green', 'red']\n",
        "ax.bar(['Neutral', 'Positive', 'Negative'], labeled_tweets_df['Sentiment'].value_counts(), color=bar_colors)\n",
        "ax.set(xlabel=\"Sentimen\", ylabel=\"Count\", title=f\"{company} Sentiment Result\")\n",
        "\n",
        "plt.show()"
      ]
    },
    {
      "cell_type": "code",
      "execution_count": null,
      "metadata": {},
      "outputs": [],
      "source": [
        "daily_sentiments_df = labeled_tweets_df.groupby([labeled_tweets_df['Date']]).mean(numeric_only=True)\n",
        "daily_sentiments_df"
      ]
    },
    {
      "cell_type": "code",
      "execution_count": null,
      "metadata": {},
      "outputs": [],
      "source": [
        "fig, ax = plt.subplots(figsize=(15,8))\n",
        "ax.plot(daily_sentiments_df['Compound'], color='#008B8B')\n",
        "ax.set(xlabel=\"Date\", ylabel=\"Sentiment\", title=f\"{company} Daily Sentiment\")\n",
        "ax.xaxis.set_major_locator(dt.MonthLocator())\n",
        "ax.xaxis.set_major_formatter(DateFormatter(\"%Y-%m\"))\n",
        "plt.show()"
      ]
    },
    {
      "cell_type": "markdown",
      "metadata": {},
      "source": [
        "#### Grouping sentiments by day"
      ]
    },
    {
      "cell_type": "code",
      "execution_count": null,
      "metadata": {
        "colab": {
          "base_uri": "https://localhost:8080/",
          "height": 237
        },
        "id": "gjvqS1Ijw7H3",
        "outputId": "f5a4c12e-03f7-4550-ba6f-4d5de8f1aa5f"
      },
      "outputs": [],
      "source": [
        "daily_sentiments_df = processed_df.groupby([processed_df['Date']]).mean(numeric_only=True)\n",
        "daily_sentiments_df"
      ]
    },
    {
      "cell_type": "code",
      "execution_count": null,
      "metadata": {
        "colab": {
          "base_uri": "https://localhost:8080/",
          "height": 470
        },
        "id": "V8kKkLSulEMe",
        "outputId": "3fb9f070-4d05-41c7-f132-3395e3c37618"
      },
      "outputs": [],
      "source": [
        "fig, ax = plt.subplots(figsize=(15,8))\n",
        "ax.plot(daily_sentiments_df['Compound'], color='#008B8B')\n",
        "ax.set(xlabel=\"Date\", ylabel=\"Score\", title=f\"{company} Daily Sentiment\")\n",
        "ax.xaxis.set_major_locator(dt.MonthLocator())\n",
        "ax.xaxis.set_major_formatter(DateFormatter(\"%Y-%m\"))\n",
        "plt.show()"
      ]
    },
    {
      "cell_type": "markdown",
      "metadata": {},
      "source": [
        "### Importing Stock Data"
      ]
    },
    {
      "cell_type": "code",
      "execution_count": null,
      "metadata": {
        "colab": {
          "base_uri": "https://localhost:8080/",
          "height": 206
        },
        "id": "4S5DD9P95z9x",
        "outputId": "c3b7c868-417f-4961-de3a-33c060ab4e5d"
      },
      "outputs": [],
      "source": [
        "all_stocks = pd.read_csv(\"stock_yfinance_data.csv\")\n",
        "all_stocks"
      ]
    },
    {
      "cell_type": "code",
      "execution_count": null,
      "metadata": {
        "colab": {
          "base_uri": "https://localhost:8080/",
          "height": 255
        },
        "id": "L72o-YzF7zw7",
        "outputId": "675f77de-f30c-4760-b7d6-c09e08520ce8"
      },
      "outputs": [],
      "source": [
        "stock_df = all_stocks[all_stocks['Stock Name'] == company]\n",
        "stock_df = stock_df.drop('Stock Name', axis=1)\n",
        "stock_df['Date'] = pd.to_datetime(stock_df['Date']).dt.date\n",
        "stock_df = stock_df.set_index(\"Date\")\n",
        "stock_df"
      ]
    },
    {
      "cell_type": "code",
      "execution_count": null,
      "metadata": {},
      "outputs": [],
      "source": [
        "stock_df.dropna()"
      ]
    },
    {
      "cell_type": "code",
      "execution_count": null,
      "metadata": {
        "colab": {
          "base_uri": "https://localhost:8080/",
          "height": 469
        },
        "id": "K0pNKNfZCCKS",
        "outputId": "48e7c276-e5da-4e91-e616-627d072c8c12"
      },
      "outputs": [],
      "source": [
        "fig, ax = plt.subplots(figsize=(15,8))\n",
        "ax.plot(stock_df['Close'], color='#008B8B')\n",
        "ax.set(xlabel=\"Date\", ylabel=\"USD\", title=f\"{company} Stock Price\")\n",
        "ax.xaxis.set_major_formatter(DateFormatter(\"%Y-%m\"))\n",
        "plt.show()"
      ]
    },
    {
      "cell_type": "code",
      "execution_count": null,
      "metadata": {
        "colab": {
          "base_uri": "https://localhost:8080/",
          "height": 255
        },
        "id": "QNbSzCPxogZP",
        "outputId": "a298b6b6-a8c8-4d01-f091-090cf6fbe619"
      },
      "outputs": [],
      "source": [
        "dataset_df = stock_df.copy()\n",
        "dataset_df = dataset_df.join(daily_sentiments_df, how=\"left\", on=\"Date\")\n",
        "dataset_df"
      ]
    },
    {
      "cell_type": "code",
      "execution_count": null,
      "metadata": {},
      "outputs": [],
      "source": [
        "scaler = MinMaxScaler(feature_range=(0,1))\n",
        "scaled_data = scaler.fit_transform(dataset_df[['Close', 'Compound']].values)\n",
        "\n",
        "fig, ax = plt.subplots()\n",
        "ax.plot(scaled_data, label=[\"Closing Price\", 'Sentiment'])\n",
        "ax.set(xlabel=\"Date\", ylabel=\"Scaled Data\", title=f\"{company} Scaled Price Overlaid with Daily Sentiment\")\n",
        "ax.legend()\n",
        "# ax.xaxis.set_major_formatter(DateFormatter(\"%Y-%m\"))\n",
        "plt.show()"
      ]
    },
    {
      "attachments": {},
      "cell_type": "markdown",
      "metadata": {},
      "source": [
        "### Functions"
      ]
    },
    {
      "cell_type": "code",
      "execution_count": null,
      "metadata": {},
      "outputs": [],
      "source": [
        "def SplitData(data, train_size, timestep):\n",
        "    data_values = data.values\n",
        "    training_data_len = math.ceil(len(data)* train_size)\n",
        "\n",
        "    scaler = MinMaxScaler(feature_range=(0,1))\n",
        "    if (len(data_values.shape) == 1):\n",
        "        scaled_data = scaler.fit_transform(data_values.reshape(-1,1))\n",
        "    else:\n",
        "        scaled_data = scaler.fit_transform(data_values)\n",
        "        scaled_index = scaler.fit_transform(data_values[:, 0:1].flatten().reshape(-1,1))\n",
        "\n",
        "    train_data = scaled_data[0: training_data_len, :]\n",
        "    test_data = scaled_data[training_data_len-timestep: , :]\n",
        "\n",
        "    train_data_x = train_data[0: training_data_len, :]\n",
        "    train_data_y = train_data[0: training_data_len, 0:1]\n",
        "\n",
        "    x_train = []\n",
        "    y_train = []\n",
        "\n",
        "    for i in range(timestep, len(train_data_x)):\n",
        "        x_train.append(train_data_x[i-timestep:i])\n",
        "        y_train.append(train_data_y[i][0])\n",
        "\n",
        "    x_train, y_train = np.array(x_train), np.array(y_train)\n",
        "    x_train = np.reshape(x_train, (x_train.shape[0], x_train.shape[1], x_train.shape[2]))\n",
        "\n",
        "    test_data = scaled_data[training_data_len-timestep: , : ]\n",
        "    x_test = []\n",
        "    if (len(data_values.shape) == 1):\n",
        "        y_test = data_values[training_data_len:]\n",
        "    else:\n",
        "        y_test = data_values[training_data_len: , 0]\n",
        "\n",
        "    for i in range(timestep, len(test_data)):\n",
        "        x_test.append(test_data[i-timestep:i])\n",
        "\n",
        "    x_test = np.array(x_test)\n",
        "    x_test = np.reshape(x_test, (x_test.shape[0], x_test.shape[1], x_test.shape[2]))\n",
        "\n",
        "    return x_train, y_train, x_test, y_test, scaler"
      ]
    },
    {
      "cell_type": "code",
      "execution_count": null,
      "metadata": {},
      "outputs": [],
      "source": [
        "def TrainModel(x_data, y_data, epoch):\n",
        "\n",
        "    regressor = Sequential()\n",
        "    regressor.add(LSTM(units=64, return_sequences=True, input_shape=(x_data.shape[1], x_data.shape[2])))\n",
        "    regressor.add(Dropout(0.2))\n",
        "\n",
        "    regressor.add(LSTM(units=64, return_sequences=False))\n",
        "    regressor.add(Dropout(0.2))\n",
        "\n",
        "    regressor.add(Dense(units=1, activation='linear'))\n",
        "\n",
        "    regressor.compile(optimizer='adam', loss='mean_squared_error', metrics=['mae', 'mse'])\n",
        "    history = regressor.fit(x_data, y_data, batch_size=1, epochs=epoch, validation_split=0.2)\n",
        "\n",
        "    return regressor, history"
      ]
    },
    {
      "cell_type": "code",
      "execution_count": null,
      "metadata": {},
      "outputs": [],
      "source": [
        "def PlotTrainingMetrics(history):\n",
        "    history_data = history.history\n",
        "    \n",
        "    loss_values = history_data['loss']\n",
        "    val_loss_values = history_data['val_loss']\n",
        "    mae_values = history_data['mae']\n",
        "    val_mae_values = history_data['val_mae']\n",
        "    rmse_values = np.sqrt(history_data['loss'])\n",
        "    val_rmse_values = np.sqrt(history_data['val_loss'])\n",
        "    epochs = range(1, len(loss_values) + 1)\n",
        "\n",
        "    fig = plt.figure(figsize=(16, 8))\n",
        "    gs = fig.add_gridspec(1, 3, wspace=0)\n",
        "    (ax1, ax2, ax3) = gs.subplots(sharey=True)\n",
        "    fig.suptitle('Training and validation metrics')\n",
        "    fig.supxlabel('epochs')\n",
        "\n",
        "    ax1.plot(epochs, mae_values, color = 'blue', label='Training MAE')\n",
        "    ax1.plot(epochs, val_mae_values, color='red', label='Validation MAE')\n",
        "    ax1.set_title('MAE')\n",
        "    ax1.set_xticks(epochs)\n",
        "    ax1.xaxis.set_major_locator(ticker.MultipleLocator(len(loss_values)/5))\n",
        "    ax1.xaxis.set_minor_locator(ticker.MultipleLocator(1))\n",
        "    ax1.xaxis.grid(True, which='both', alpha=0.5)\n",
        "    ax1.yaxis.grid(True, alpha=0.5)\n",
        "    ax1.set_ylabel('value')\n",
        "    ax1.legend()\n",
        "\n",
        "    ax2.plot(epochs, loss_values, color = 'blue', label='Training loss')\n",
        "    ax2.plot(epochs, val_loss_values, color='red', label='Validation loss')\n",
        "    ax2.set_title('Loss (MSE)')\n",
        "    ax2.set_xticks(epochs)\n",
        "    ax2.xaxis.set_major_locator(ticker.MultipleLocator(len(loss_values)/5))\n",
        "    ax2.xaxis.set_minor_locator(ticker.MultipleLocator(1))\n",
        "    ax2.xaxis.grid(True, which='both', alpha=0.5)\n",
        "    ax2.yaxis.grid(True, alpha=0.5)\n",
        "    ax2.legend()\n",
        "\n",
        "    ax3.plot(epochs, rmse_values, color = 'blue', label='Training RMSE')\n",
        "    ax3.plot(epochs, val_rmse_values, color='red', label='Validation RMSE')\n",
        "    ax3.set_title('RMSE')\n",
        "    ax3.set_xticks(epochs)\n",
        "    ax3.xaxis.set_major_locator(ticker.MultipleLocator(len(loss_values)/5))\n",
        "    ax3.xaxis.set_minor_locator(ticker.MultipleLocator(1))\n",
        "    ax3.xaxis.grid(True, which='both', alpha=0.5)\n",
        "    ax3.yaxis.grid(True, alpha=0.5)\n",
        "    ax3.legend()"
      ]
    },
    {
      "cell_type": "code",
      "execution_count": null,
      "metadata": {},
      "outputs": [],
      "source": [
        "def PlotPredictions(data, prediction):\n",
        "    train_plot = data[:len(data)-len(prediction)]\n",
        "    validation_plot = data[len(data)-len(prediction):].copy()\n",
        "    validation_plot['Predictions'] = prediction\n",
        "\n",
        "    fig, ax = plt.subplots(figsize=(16, 8))\n",
        "    ax.set_title('Model and Predictions')\n",
        "    ax.set_ylabel('Closing price (USD)')\n",
        "    ax.set_xlabel('Date')\n",
        "    ax.plot(train_plot)\n",
        "    ax.plot(validation_plot[['Close', 'Predictions']])\n",
        "    ax.xaxis.set_major_locator(dt.MonthLocator())\n",
        "    ax.xaxis.set_minor_locator(dt.MonthLocator(bymonthday=15))\n",
        "    ax.xaxis.set_major_formatter(dt.DateFormatter('%b'))\n",
        "    ax.grid(alpha=0.5, which='both')\n",
        "    ax.legend(['Train', 'Validation', 'Predictions'])"
      ]
    },
    {
      "attachments": {},
      "cell_type": "markdown",
      "metadata": {
        "id": "uiks1f82oTPX"
      },
      "source": [
        "### LSTM without Sentiment Score"
      ]
    },
    {
      "cell_type": "code",
      "execution_count": null,
      "metadata": {
        "id": "wdunwbHQR4lK"
      },
      "outputs": [],
      "source": [
        "close_prices = dataset_df['Close']\n",
        "\n",
        "train_portion = 0.8\n",
        "timestep = 60\n",
        "\n",
        "\n",
        "x_train, y_train, x_test, y_test, scaler = SplitData(close_prices, train_portion, timestep)"
      ]
    },
    {
      "cell_type": "code",
      "execution_count": null,
      "metadata": {},
      "outputs": [],
      "source": [
        "singleModel, history_single = TrainModel(x_train, y_train, 10)"
      ]
    },
    {
      "cell_type": "code",
      "execution_count": null,
      "metadata": {},
      "outputs": [],
      "source": [
        "singleModel.save('saved_model/single-features.h5')"
      ]
    },
    {
      "cell_type": "code",
      "execution_count": null,
      "metadata": {},
      "outputs": [],
      "source": [
        "singleModel = md.load_model('saved_model/single-features.h5')"
      ]
    },
    {
      "cell_type": "code",
      "execution_count": null,
      "metadata": {},
      "outputs": [],
      "source": [
        "singleModel.get_weights()"
      ]
    },
    {
      "cell_type": "code",
      "execution_count": null,
      "metadata": {},
      "outputs": [],
      "source": [
        "singleModel.summary()"
      ]
    },
    {
      "cell_type": "code",
      "execution_count": null,
      "metadata": {
        "colab": {
          "base_uri": "https://localhost:8080/"
        },
        "id": "Hdz6jcJNSTSw",
        "outputId": "00e7ad9d-01a5-4328-bf75-a65be7df38ea"
      },
      "outputs": [],
      "source": [
        "predictions_single = singleModel.predict(x_test)\n",
        "predictions_single = scaler.inverse_transform(predictions_single)\n",
        "\n",
        "mae = np.mean(np.abs(predictions_single - y_test))\n",
        "mse = np.mean((predictions_single - y_test)**2)\n",
        "rmse = np.sqrt(mse)\n",
        "mape = np.mean(np.abs((y_test - predictions_single)/y_test)) * 100\n",
        "mae, mse, rmse, mape"
      ]
    },
    {
      "cell_type": "code",
      "execution_count": null,
      "metadata": {},
      "outputs": [],
      "source": [
        "PlotTrainingMetrics(history_single)"
      ]
    },
    {
      "cell_type": "code",
      "execution_count": null,
      "metadata": {},
      "outputs": [],
      "source": [
        "PlotPredictions(dataset_df.filter(['Close']), predictions_single)"
      ]
    },
    {
      "attachments": {},
      "cell_type": "markdown",
      "metadata": {
        "id": "ojots9FfJU2a"
      },
      "source": [
        "### LSTM with User Sentiment Score"
      ]
    },
    {
      "cell_type": "code",
      "execution_count": null,
      "metadata": {
        "id": "-2OrcJx0VM4X"
      },
      "outputs": [],
      "source": [
        "combined_data = dataset_df[['Close', 'Compound']].copy()\n",
        "\n",
        "train_portion = 0.8\n",
        "timestep = 60\n",
        "\n",
        "x_train, y_train, x_test, y_test, scaler = SplitData(combined_data, train_portion, timestep)"
      ]
    },
    {
      "cell_type": "code",
      "execution_count": null,
      "metadata": {},
      "outputs": [],
      "source": [
        "sentimentModel, history_sentiment = TrainModel(x_train, y_train, 10)"
      ]
    },
    {
      "cell_type": "code",
      "execution_count": null,
      "metadata": {},
      "outputs": [],
      "source": [
        "sentimentModel.save('saved_model/multi-features.h5')"
      ]
    },
    {
      "cell_type": "code",
      "execution_count": null,
      "metadata": {},
      "outputs": [],
      "source": [
        "sentimentModel = md.load_model('saved_model/multi-features.h5')"
      ]
    },
    {
      "cell_type": "code",
      "execution_count": null,
      "metadata": {},
      "outputs": [],
      "source": [
        "predictions = sentimentModel.predict(x_test)\n",
        "predictions"
      ]
    },
    {
      "cell_type": "code",
      "execution_count": null,
      "metadata": {},
      "outputs": [],
      "source": [
        "predictions = scaler.inverse_transform(predictions)\n",
        "predictions"
      ]
    },
    {
      "cell_type": "code",
      "execution_count": null,
      "metadata": {},
      "outputs": [],
      "source": [
        "mae = np.mean(np.abs(predictions - y_test))\n",
        "mse = np.mean((predictions - y_test)**2)\n",
        "rmse = np.sqrt(mse)\n",
        "mape = np.mean(np.abs((y_test - predictions)/y_test)) * 100\n",
        "mae, mse, rmse, mape"
      ]
    },
    {
      "cell_type": "code",
      "execution_count": null,
      "metadata": {},
      "outputs": [],
      "source": [
        "PlotTrainingMetrics(history_sentiment)"
      ]
    },
    {
      "cell_type": "code",
      "execution_count": null,
      "metadata": {},
      "outputs": [],
      "source": [
        "PlotPredictions(dataset_df.filter(['Close']), predictions)"
      ]
    },
    {
      "cell_type": "markdown",
      "metadata": {},
      "source": [
        "## Fine Tuning with Grid Search"
      ]
    },
    {
      "cell_type": "code",
      "execution_count": null,
      "metadata": {},
      "outputs": [],
      "source": [
        "def TrainModelFineTune(x_data, y_data, epoch, neuron_units):\n",
        "\n",
        "    regressor = Sequential()\n",
        "    regressor.add(LSTM(units=neuron_units, return_sequences=True, input_shape=(x_data.shape[1], x_data.shape[2])))\n",
        "    regressor.add(Dropout(0.2))\n",
        "\n",
        "    regressor.add(LSTM(units=neuron_units, return_sequences=False))\n",
        "    regressor.add(Dropout(0.2))\n",
        "    regressor.add(Dense(units=1, activation='linear'))\n",
        "\n",
        "    regressor.compile(optimizer='adam', loss='mean_squared_error', metrics=['mae'])\n",
        "    history = regressor.fit(x_data, y_data, batch_size=1, epochs=epoch, validation_split=0.2)\n",
        "\n",
        "    return regressor, history"
      ]
    },
    {
      "cell_type": "markdown",
      "metadata": {},
      "source": [
        "### Fine Tune Epochs"
      ]
    },
    {
      "cell_type": "code",
      "execution_count": null,
      "metadata": {},
      "outputs": [],
      "source": [
        "epochs = [5, 10, 20, 30, 40, 50]\n",
        "\n",
        "epoch_finetune_history = []\n",
        "epoch_finetune_test = []"
      ]
    },
    {
      "cell_type": "code",
      "execution_count": null,
      "metadata": {},
      "outputs": [],
      "source": [
        "combined_data = dataset_df[['Close', 'Compound']].copy()\n",
        "\n",
        "train_portion = 0.8\n",
        "timestep = 60"
      ]
    },
    {
      "cell_type": "code",
      "execution_count": null,
      "metadata": {},
      "outputs": [],
      "source": [
        "for i in range(len(epochs)):\n",
        "    \n",
        "    fig, ax = plt.subplots(figsize=(16, 8))\n",
        "    ax.set_title('Loss value for ' + str(epochs[i]) + ' epochs')\n",
        "    ax.set_xlabel('epochs')\n",
        "    ax.set_ylabel('error value')\n",
        "    ax.xaxis.grid(True, which='both', alpha=0.5)\n",
        "    ax.yaxis.grid(True, alpha=0.5)\n",
        "\n",
        "    for j in range(10):\n",
        "\n",
        "        x_train, y_train, x_test, y_test, scaler = SplitData(combined_data, train_portion, timestep)\n",
        "\n",
        "        start_time = time.time()\n",
        "        sentimentModel, history = TrainModelFineTune(x_train, y_train, epochs[i], 32)\n",
        "        end_time = time.time()\n",
        "        training_time = end_time - start_time\n",
        "\n",
        "        predictions = sentimentModel.predict(x_test)\n",
        "        predictions = scaler.inverse_transform(predictions)\n",
        "\n",
        "        mae = np.mean(np.abs(predictions - y_test))\n",
        "        mse = np.mean((predictions - y_test)**2)\n",
        "        rmse = np.sqrt(mse)\n",
        "        mape = np.mean(np.abs((y_test - predictions)/y_test)) * 100\n",
        "\n",
        "        epoch_finetune_test.append([epochs[i], j, mae, mse, rmse, mape, training_time])\n",
        "\n",
        "        history_data = history.history\n",
        "    \n",
        "        loss_values = history_data['loss']\n",
        "        val_loss_values = history_data['val_loss']\n",
        "\n",
        "        epoch_finetune_history.append([epochs[i], j, history_data['loss'], history_data['val_loss'], history_data['mae'], history_data['val_mae'], training_time])\n",
        "\n",
        "        ax.plot(loss_values, color = 'blue')\n",
        "        ax.plot(val_loss_values, color='red')\n",
        "\n",
        "    plt.savefig('epoch_finetune_data/'+ str(epochs[i]) +'_epochs_diagnostic.png', facecolor=(1, 1, 1))"
      ]
    },
    {
      "cell_type": "code",
      "execution_count": null,
      "metadata": {},
      "outputs": [],
      "source": [
        "epoch_test_finetuning = pd.DataFrame(epoch_finetune_test, columns=['#epoch', '#try', 'MAE', 'MSE', 'RMSE', 'MAPE', 'train_time'])\n",
        "epoch_test_finetuning"
      ]
    },
    {
      "cell_type": "code",
      "execution_count": null,
      "metadata": {},
      "outputs": [],
      "source": [
        "epoch_test_finetuning.to_csv('epoch_finetune_data/finetuning_test_data.csv', index=False)"
      ]
    },
    {
      "cell_type": "code",
      "execution_count": 2,
      "metadata": {},
      "outputs": [
        {
          "data": {
            "text/html": [
              "<div>\n",
              "<style scoped>\n",
              "    .dataframe tbody tr th:only-of-type {\n",
              "        vertical-align: middle;\n",
              "    }\n",
              "\n",
              "    .dataframe tbody tr th {\n",
              "        vertical-align: top;\n",
              "    }\n",
              "\n",
              "    .dataframe thead th {\n",
              "        text-align: right;\n",
              "    }\n",
              "</style>\n",
              "<table border=\"1\" class=\"dataframe\">\n",
              "  <thead>\n",
              "    <tr style=\"text-align: right;\">\n",
              "      <th></th>\n",
              "      <th>#epoch</th>\n",
              "      <th>#try</th>\n",
              "      <th>MAE</th>\n",
              "      <th>MSE</th>\n",
              "      <th>RMSE</th>\n",
              "      <th>MAPE</th>\n",
              "      <th>train_time</th>\n",
              "    </tr>\n",
              "  </thead>\n",
              "  <tbody>\n",
              "    <tr>\n",
              "      <th>0</th>\n",
              "      <td>5</td>\n",
              "      <td>0</td>\n",
              "      <td>16.452995</td>\n",
              "      <td>417.084625</td>\n",
              "      <td>20.422650</td>\n",
              "      <td>5.792440</td>\n",
              "      <td>27.497829</td>\n",
              "    </tr>\n",
              "    <tr>\n",
              "      <th>1</th>\n",
              "      <td>5</td>\n",
              "      <td>1</td>\n",
              "      <td>14.595786</td>\n",
              "      <td>337.351724</td>\n",
              "      <td>18.367137</td>\n",
              "      <td>5.085739</td>\n",
              "      <td>26.651451</td>\n",
              "    </tr>\n",
              "    <tr>\n",
              "      <th>2</th>\n",
              "      <td>5</td>\n",
              "      <td>2</td>\n",
              "      <td>21.534943</td>\n",
              "      <td>652.194895</td>\n",
              "      <td>25.538107</td>\n",
              "      <td>7.580885</td>\n",
              "      <td>26.448623</td>\n",
              "    </tr>\n",
              "    <tr>\n",
              "      <th>3</th>\n",
              "      <td>5</td>\n",
              "      <td>3</td>\n",
              "      <td>16.364322</td>\n",
              "      <td>411.876037</td>\n",
              "      <td>20.294729</td>\n",
              "      <td>5.764117</td>\n",
              "      <td>26.594965</td>\n",
              "    </tr>\n",
              "    <tr>\n",
              "      <th>4</th>\n",
              "      <td>5</td>\n",
              "      <td>4</td>\n",
              "      <td>16.382885</td>\n",
              "      <td>412.905221</td>\n",
              "      <td>20.320069</td>\n",
              "      <td>5.772575</td>\n",
              "      <td>30.561859</td>\n",
              "    </tr>\n",
              "    <tr>\n",
              "      <th>5</th>\n",
              "      <td>5</td>\n",
              "      <td>5</td>\n",
              "      <td>15.202103</td>\n",
              "      <td>357.268913</td>\n",
              "      <td>18.901558</td>\n",
              "      <td>5.198762</td>\n",
              "      <td>28.937516</td>\n",
              "    </tr>\n",
              "    <tr>\n",
              "      <th>6</th>\n",
              "      <td>5</td>\n",
              "      <td>6</td>\n",
              "      <td>16.426257</td>\n",
              "      <td>415.624994</td>\n",
              "      <td>20.386883</td>\n",
              "      <td>5.782871</td>\n",
              "      <td>27.776019</td>\n",
              "    </tr>\n",
              "    <tr>\n",
              "      <th>7</th>\n",
              "      <td>5</td>\n",
              "      <td>7</td>\n",
              "      <td>16.164125</td>\n",
              "      <td>398.580501</td>\n",
              "      <td>19.964481</td>\n",
              "      <td>5.518425</td>\n",
              "      <td>27.554009</td>\n",
              "    </tr>\n",
              "    <tr>\n",
              "      <th>8</th>\n",
              "      <td>5</td>\n",
              "      <td>8</td>\n",
              "      <td>17.525272</td>\n",
              "      <td>461.204532</td>\n",
              "      <td>21.475673</td>\n",
              "      <td>6.175580</td>\n",
              "      <td>27.610307</td>\n",
              "    </tr>\n",
              "    <tr>\n",
              "      <th>9</th>\n",
              "      <td>5</td>\n",
              "      <td>9</td>\n",
              "      <td>21.864256</td>\n",
              "      <td>677.010242</td>\n",
              "      <td>26.019420</td>\n",
              "      <td>7.695033</td>\n",
              "      <td>28.541749</td>\n",
              "    </tr>\n",
              "    <tr>\n",
              "      <th>10</th>\n",
              "      <td>10</td>\n",
              "      <td>0</td>\n",
              "      <td>17.827169</td>\n",
              "      <td>480.736734</td>\n",
              "      <td>21.925709</td>\n",
              "      <td>6.272033</td>\n",
              "      <td>46.911663</td>\n",
              "    </tr>\n",
              "    <tr>\n",
              "      <th>11</th>\n",
              "      <td>10</td>\n",
              "      <td>1</td>\n",
              "      <td>15.938373</td>\n",
              "      <td>401.929858</td>\n",
              "      <td>20.048188</td>\n",
              "      <td>5.583473</td>\n",
              "      <td>47.243852</td>\n",
              "    </tr>\n",
              "    <tr>\n",
              "      <th>12</th>\n",
              "      <td>10</td>\n",
              "      <td>2</td>\n",
              "      <td>15.556178</td>\n",
              "      <td>375.885095</td>\n",
              "      <td>19.387756</td>\n",
              "      <td>5.320374</td>\n",
              "      <td>46.910299</td>\n",
              "    </tr>\n",
              "    <tr>\n",
              "      <th>13</th>\n",
              "      <td>10</td>\n",
              "      <td>3</td>\n",
              "      <td>14.731575</td>\n",
              "      <td>342.775503</td>\n",
              "      <td>18.514197</td>\n",
              "      <td>5.098338</td>\n",
              "      <td>46.541039</td>\n",
              "    </tr>\n",
              "    <tr>\n",
              "      <th>14</th>\n",
              "      <td>10</td>\n",
              "      <td>4</td>\n",
              "      <td>17.739100</td>\n",
              "      <td>481.829610</td>\n",
              "      <td>21.950618</td>\n",
              "      <td>6.222562</td>\n",
              "      <td>50.384203</td>\n",
              "    </tr>\n",
              "    <tr>\n",
              "      <th>15</th>\n",
              "      <td>10</td>\n",
              "      <td>5</td>\n",
              "      <td>15.212959</td>\n",
              "      <td>365.501046</td>\n",
              "      <td>19.118082</td>\n",
              "      <td>5.306121</td>\n",
              "      <td>43.986791</td>\n",
              "    </tr>\n",
              "    <tr>\n",
              "      <th>16</th>\n",
              "      <td>10</td>\n",
              "      <td>6</td>\n",
              "      <td>17.228120</td>\n",
              "      <td>454.235900</td>\n",
              "      <td>21.312811</td>\n",
              "      <td>6.061339</td>\n",
              "      <td>46.852746</td>\n",
              "    </tr>\n",
              "    <tr>\n",
              "      <th>17</th>\n",
              "      <td>10</td>\n",
              "      <td>7</td>\n",
              "      <td>15.298756</td>\n",
              "      <td>363.875359</td>\n",
              "      <td>19.075517</td>\n",
              "      <td>5.262288</td>\n",
              "      <td>53.880965</td>\n",
              "    </tr>\n",
              "    <tr>\n",
              "      <th>18</th>\n",
              "      <td>10</td>\n",
              "      <td>8</td>\n",
              "      <td>14.858807</td>\n",
              "      <td>341.214858</td>\n",
              "      <td>18.472002</td>\n",
              "      <td>5.093658</td>\n",
              "      <td>48.333719</td>\n",
              "    </tr>\n",
              "    <tr>\n",
              "      <th>19</th>\n",
              "      <td>10</td>\n",
              "      <td>9</td>\n",
              "      <td>16.188049</td>\n",
              "      <td>408.209120</td>\n",
              "      <td>20.204186</td>\n",
              "      <td>5.681867</td>\n",
              "      <td>46.612864</td>\n",
              "    </tr>\n",
              "    <tr>\n",
              "      <th>20</th>\n",
              "      <td>20</td>\n",
              "      <td>0</td>\n",
              "      <td>15.270353</td>\n",
              "      <td>362.482477</td>\n",
              "      <td>19.038973</td>\n",
              "      <td>5.329361</td>\n",
              "      <td>85.930357</td>\n",
              "    </tr>\n",
              "    <tr>\n",
              "      <th>21</th>\n",
              "      <td>20</td>\n",
              "      <td>1</td>\n",
              "      <td>16.571770</td>\n",
              "      <td>422.158831</td>\n",
              "      <td>20.546504</td>\n",
              "      <td>5.825584</td>\n",
              "      <td>85.566376</td>\n",
              "    </tr>\n",
              "    <tr>\n",
              "      <th>22</th>\n",
              "      <td>20</td>\n",
              "      <td>2</td>\n",
              "      <td>19.456797</td>\n",
              "      <td>559.984571</td>\n",
              "      <td>23.663993</td>\n",
              "      <td>6.839865</td>\n",
              "      <td>86.697762</td>\n",
              "    </tr>\n",
              "    <tr>\n",
              "      <th>23</th>\n",
              "      <td>20</td>\n",
              "      <td>3</td>\n",
              "      <td>16.050030</td>\n",
              "      <td>400.387960</td>\n",
              "      <td>20.009697</td>\n",
              "      <td>5.612081</td>\n",
              "      <td>88.900373</td>\n",
              "    </tr>\n",
              "    <tr>\n",
              "      <th>24</th>\n",
              "      <td>20</td>\n",
              "      <td>4</td>\n",
              "      <td>15.008926</td>\n",
              "      <td>347.023459</td>\n",
              "      <td>18.628566</td>\n",
              "      <td>5.151295</td>\n",
              "      <td>85.440735</td>\n",
              "    </tr>\n",
              "    <tr>\n",
              "      <th>25</th>\n",
              "      <td>20</td>\n",
              "      <td>5</td>\n",
              "      <td>16.140782</td>\n",
              "      <td>413.987537</td>\n",
              "      <td>20.346684</td>\n",
              "      <td>5.589469</td>\n",
              "      <td>86.539991</td>\n",
              "    </tr>\n",
              "    <tr>\n",
              "      <th>26</th>\n",
              "      <td>20</td>\n",
              "      <td>6</td>\n",
              "      <td>18.354735</td>\n",
              "      <td>509.563990</td>\n",
              "      <td>22.573524</td>\n",
              "      <td>6.462588</td>\n",
              "      <td>87.350480</td>\n",
              "    </tr>\n",
              "    <tr>\n",
              "      <th>27</th>\n",
              "      <td>20</td>\n",
              "      <td>7</td>\n",
              "      <td>14.908833</td>\n",
              "      <td>347.990727</td>\n",
              "      <td>18.654510</td>\n",
              "      <td>5.191494</td>\n",
              "      <td>87.073279</td>\n",
              "    </tr>\n",
              "    <tr>\n",
              "      <th>28</th>\n",
              "      <td>20</td>\n",
              "      <td>8</td>\n",
              "      <td>17.924737</td>\n",
              "      <td>484.501541</td>\n",
              "      <td>22.011396</td>\n",
              "      <td>6.299236</td>\n",
              "      <td>89.174975</td>\n",
              "    </tr>\n",
              "    <tr>\n",
              "      <th>29</th>\n",
              "      <td>20</td>\n",
              "      <td>9</td>\n",
              "      <td>17.307720</td>\n",
              "      <td>457.635084</td>\n",
              "      <td>21.392407</td>\n",
              "      <td>6.075998</td>\n",
              "      <td>90.272318</td>\n",
              "    </tr>\n",
              "    <tr>\n",
              "      <th>30</th>\n",
              "      <td>30</td>\n",
              "      <td>0</td>\n",
              "      <td>16.985618</td>\n",
              "      <td>440.424619</td>\n",
              "      <td>20.986296</td>\n",
              "      <td>5.958636</td>\n",
              "      <td>135.639912</td>\n",
              "    </tr>\n",
              "    <tr>\n",
              "      <th>31</th>\n",
              "      <td>30</td>\n",
              "      <td>1</td>\n",
              "      <td>16.012969</td>\n",
              "      <td>397.268959</td>\n",
              "      <td>19.931607</td>\n",
              "      <td>5.605768</td>\n",
              "      <td>147.959595</td>\n",
              "    </tr>\n",
              "    <tr>\n",
              "      <th>32</th>\n",
              "      <td>30</td>\n",
              "      <td>2</td>\n",
              "      <td>15.409967</td>\n",
              "      <td>378.313543</td>\n",
              "      <td>19.450284</td>\n",
              "      <td>5.334986</td>\n",
              "      <td>139.433690</td>\n",
              "    </tr>\n",
              "    <tr>\n",
              "      <th>33</th>\n",
              "      <td>30</td>\n",
              "      <td>3</td>\n",
              "      <td>16.656367</td>\n",
              "      <td>431.285417</td>\n",
              "      <td>20.767412</td>\n",
              "      <td>5.791706</td>\n",
              "      <td>143.653253</td>\n",
              "    </tr>\n",
              "    <tr>\n",
              "      <th>34</th>\n",
              "      <td>30</td>\n",
              "      <td>4</td>\n",
              "      <td>16.125668</td>\n",
              "      <td>401.925585</td>\n",
              "      <td>20.048082</td>\n",
              "      <td>5.639519</td>\n",
              "      <td>142.524274</td>\n",
              "    </tr>\n",
              "    <tr>\n",
              "      <th>35</th>\n",
              "      <td>30</td>\n",
              "      <td>5</td>\n",
              "      <td>15.061636</td>\n",
              "      <td>358.378556</td>\n",
              "      <td>18.930889</td>\n",
              "      <td>5.221201</td>\n",
              "      <td>145.552216</td>\n",
              "    </tr>\n",
              "    <tr>\n",
              "      <th>36</th>\n",
              "      <td>30</td>\n",
              "      <td>6</td>\n",
              "      <td>16.878373</td>\n",
              "      <td>436.544124</td>\n",
              "      <td>20.893638</td>\n",
              "      <td>5.918377</td>\n",
              "      <td>135.959963</td>\n",
              "    </tr>\n",
              "    <tr>\n",
              "      <th>37</th>\n",
              "      <td>30</td>\n",
              "      <td>7</td>\n",
              "      <td>20.216380</td>\n",
              "      <td>603.807561</td>\n",
              "      <td>24.572496</td>\n",
              "      <td>7.118248</td>\n",
              "      <td>137.908773</td>\n",
              "    </tr>\n",
              "    <tr>\n",
              "      <th>38</th>\n",
              "      <td>30</td>\n",
              "      <td>8</td>\n",
              "      <td>15.157459</td>\n",
              "      <td>360.750295</td>\n",
              "      <td>18.993428</td>\n",
              "      <td>5.298971</td>\n",
              "      <td>146.101030</td>\n",
              "    </tr>\n",
              "    <tr>\n",
              "      <th>39</th>\n",
              "      <td>30</td>\n",
              "      <td>9</td>\n",
              "      <td>15.000260</td>\n",
              "      <td>355.959713</td>\n",
              "      <td>18.866895</td>\n",
              "      <td>5.202597</td>\n",
              "      <td>138.240873</td>\n",
              "    </tr>\n",
              "    <tr>\n",
              "      <th>40</th>\n",
              "      <td>40</td>\n",
              "      <td>0</td>\n",
              "      <td>17.568640</td>\n",
              "      <td>466.783630</td>\n",
              "      <td>21.605176</td>\n",
              "      <td>6.174636</td>\n",
              "      <td>191.370584</td>\n",
              "    </tr>\n",
              "    <tr>\n",
              "      <th>41</th>\n",
              "      <td>40</td>\n",
              "      <td>1</td>\n",
              "      <td>17.437317</td>\n",
              "      <td>461.494638</td>\n",
              "      <td>21.482426</td>\n",
              "      <td>6.127232</td>\n",
              "      <td>198.127547</td>\n",
              "    </tr>\n",
              "    <tr>\n",
              "      <th>42</th>\n",
              "      <td>40</td>\n",
              "      <td>2</td>\n",
              "      <td>15.397955</td>\n",
              "      <td>369.706346</td>\n",
              "      <td>19.227749</td>\n",
              "      <td>5.367222</td>\n",
              "      <td>188.430756</td>\n",
              "    </tr>\n",
              "    <tr>\n",
              "      <th>43</th>\n",
              "      <td>40</td>\n",
              "      <td>3</td>\n",
              "      <td>15.448308</td>\n",
              "      <td>370.301955</td>\n",
              "      <td>19.243231</td>\n",
              "      <td>5.383957</td>\n",
              "      <td>190.305205</td>\n",
              "    </tr>\n",
              "    <tr>\n",
              "      <th>44</th>\n",
              "      <td>40</td>\n",
              "      <td>4</td>\n",
              "      <td>16.410107</td>\n",
              "      <td>413.077621</td>\n",
              "      <td>20.324311</td>\n",
              "      <td>5.759758</td>\n",
              "      <td>189.220214</td>\n",
              "    </tr>\n",
              "    <tr>\n",
              "      <th>45</th>\n",
              "      <td>40</td>\n",
              "      <td>5</td>\n",
              "      <td>14.685841</td>\n",
              "      <td>339.661235</td>\n",
              "      <td>18.429901</td>\n",
              "      <td>5.089872</td>\n",
              "      <td>188.440455</td>\n",
              "    </tr>\n",
              "    <tr>\n",
              "      <th>46</th>\n",
              "      <td>40</td>\n",
              "      <td>6</td>\n",
              "      <td>18.917671</td>\n",
              "      <td>533.176569</td>\n",
              "      <td>23.090616</td>\n",
              "      <td>6.660728</td>\n",
              "      <td>186.930768</td>\n",
              "    </tr>\n",
              "    <tr>\n",
              "      <th>47</th>\n",
              "      <td>40</td>\n",
              "      <td>7</td>\n",
              "      <td>15.957208</td>\n",
              "      <td>408.789533</td>\n",
              "      <td>20.218544</td>\n",
              "      <td>5.506396</td>\n",
              "      <td>195.162170</td>\n",
              "    </tr>\n",
              "    <tr>\n",
              "      <th>48</th>\n",
              "      <td>40</td>\n",
              "      <td>8</td>\n",
              "      <td>17.709993</td>\n",
              "      <td>475.612369</td>\n",
              "      <td>21.808539</td>\n",
              "      <td>6.214644</td>\n",
              "      <td>191.950861</td>\n",
              "    </tr>\n",
              "    <tr>\n",
              "      <th>49</th>\n",
              "      <td>40</td>\n",
              "      <td>9</td>\n",
              "      <td>15.431485</td>\n",
              "      <td>377.971494</td>\n",
              "      <td>19.441489</td>\n",
              "      <td>5.368025</td>\n",
              "      <td>189.029960</td>\n",
              "    </tr>\n",
              "    <tr>\n",
              "      <th>50</th>\n",
              "      <td>50</td>\n",
              "      <td>0</td>\n",
              "      <td>17.937931</td>\n",
              "      <td>484.954440</td>\n",
              "      <td>22.021681</td>\n",
              "      <td>6.293862</td>\n",
              "      <td>251.621316</td>\n",
              "    </tr>\n",
              "    <tr>\n",
              "      <th>51</th>\n",
              "      <td>50</td>\n",
              "      <td>1</td>\n",
              "      <td>15.384080</td>\n",
              "      <td>367.483779</td>\n",
              "      <td>19.169866</td>\n",
              "      <td>5.356815</td>\n",
              "      <td>252.436677</td>\n",
              "    </tr>\n",
              "    <tr>\n",
              "      <th>52</th>\n",
              "      <td>50</td>\n",
              "      <td>2</td>\n",
              "      <td>18.232893</td>\n",
              "      <td>499.372681</td>\n",
              "      <td>22.346648</td>\n",
              "      <td>6.402841</td>\n",
              "      <td>257.872724</td>\n",
              "    </tr>\n",
              "    <tr>\n",
              "      <th>53</th>\n",
              "      <td>50</td>\n",
              "      <td>3</td>\n",
              "      <td>14.916967</td>\n",
              "      <td>347.196082</td>\n",
              "      <td>18.633198</td>\n",
              "      <td>5.203986</td>\n",
              "      <td>244.957552</td>\n",
              "    </tr>\n",
              "    <tr>\n",
              "      <th>54</th>\n",
              "      <td>50</td>\n",
              "      <td>4</td>\n",
              "      <td>18.470940</td>\n",
              "      <td>514.403258</td>\n",
              "      <td>22.680460</td>\n",
              "      <td>6.488050</td>\n",
              "      <td>237.322231</td>\n",
              "    </tr>\n",
              "    <tr>\n",
              "      <th>55</th>\n",
              "      <td>50</td>\n",
              "      <td>5</td>\n",
              "      <td>17.079273</td>\n",
              "      <td>443.215384</td>\n",
              "      <td>21.052681</td>\n",
              "      <td>5.995001</td>\n",
              "      <td>209.100802</td>\n",
              "    </tr>\n",
              "    <tr>\n",
              "      <th>56</th>\n",
              "      <td>50</td>\n",
              "      <td>6</td>\n",
              "      <td>14.881234</td>\n",
              "      <td>343.470972</td>\n",
              "      <td>18.532970</td>\n",
              "      <td>5.169321</td>\n",
              "      <td>237.912954</td>\n",
              "    </tr>\n",
              "    <tr>\n",
              "      <th>57</th>\n",
              "      <td>50</td>\n",
              "      <td>7</td>\n",
              "      <td>15.912704</td>\n",
              "      <td>390.033434</td>\n",
              "      <td>19.749264</td>\n",
              "      <td>5.561161</td>\n",
              "      <td>242.270167</td>\n",
              "    </tr>\n",
              "    <tr>\n",
              "      <th>58</th>\n",
              "      <td>50</td>\n",
              "      <td>8</td>\n",
              "      <td>17.353007</td>\n",
              "      <td>457.300828</td>\n",
              "      <td>21.384593</td>\n",
              "      <td>6.102271</td>\n",
              "      <td>233.682414</td>\n",
              "    </tr>\n",
              "    <tr>\n",
              "      <th>59</th>\n",
              "      <td>50</td>\n",
              "      <td>9</td>\n",
              "      <td>16.538022</td>\n",
              "      <td>419.686285</td>\n",
              "      <td>20.486246</td>\n",
              "      <td>5.791815</td>\n",
              "      <td>251.837168</td>\n",
              "    </tr>\n",
              "  </tbody>\n",
              "</table>\n",
              "</div>"
            ],
            "text/plain": [
              "    #epoch  #try        MAE         MSE       RMSE      MAPE  train_time\n",
              "0        5     0  16.452995  417.084625  20.422650  5.792440   27.497829\n",
              "1        5     1  14.595786  337.351724  18.367137  5.085739   26.651451\n",
              "2        5     2  21.534943  652.194895  25.538107  7.580885   26.448623\n",
              "3        5     3  16.364322  411.876037  20.294729  5.764117   26.594965\n",
              "4        5     4  16.382885  412.905221  20.320069  5.772575   30.561859\n",
              "5        5     5  15.202103  357.268913  18.901558  5.198762   28.937516\n",
              "6        5     6  16.426257  415.624994  20.386883  5.782871   27.776019\n",
              "7        5     7  16.164125  398.580501  19.964481  5.518425   27.554009\n",
              "8        5     8  17.525272  461.204532  21.475673  6.175580   27.610307\n",
              "9        5     9  21.864256  677.010242  26.019420  7.695033   28.541749\n",
              "10      10     0  17.827169  480.736734  21.925709  6.272033   46.911663\n",
              "11      10     1  15.938373  401.929858  20.048188  5.583473   47.243852\n",
              "12      10     2  15.556178  375.885095  19.387756  5.320374   46.910299\n",
              "13      10     3  14.731575  342.775503  18.514197  5.098338   46.541039\n",
              "14      10     4  17.739100  481.829610  21.950618  6.222562   50.384203\n",
              "15      10     5  15.212959  365.501046  19.118082  5.306121   43.986791\n",
              "16      10     6  17.228120  454.235900  21.312811  6.061339   46.852746\n",
              "17      10     7  15.298756  363.875359  19.075517  5.262288   53.880965\n",
              "18      10     8  14.858807  341.214858  18.472002  5.093658   48.333719\n",
              "19      10     9  16.188049  408.209120  20.204186  5.681867   46.612864\n",
              "20      20     0  15.270353  362.482477  19.038973  5.329361   85.930357\n",
              "21      20     1  16.571770  422.158831  20.546504  5.825584   85.566376\n",
              "22      20     2  19.456797  559.984571  23.663993  6.839865   86.697762\n",
              "23      20     3  16.050030  400.387960  20.009697  5.612081   88.900373\n",
              "24      20     4  15.008926  347.023459  18.628566  5.151295   85.440735\n",
              "25      20     5  16.140782  413.987537  20.346684  5.589469   86.539991\n",
              "26      20     6  18.354735  509.563990  22.573524  6.462588   87.350480\n",
              "27      20     7  14.908833  347.990727  18.654510  5.191494   87.073279\n",
              "28      20     8  17.924737  484.501541  22.011396  6.299236   89.174975\n",
              "29      20     9  17.307720  457.635084  21.392407  6.075998   90.272318\n",
              "30      30     0  16.985618  440.424619  20.986296  5.958636  135.639912\n",
              "31      30     1  16.012969  397.268959  19.931607  5.605768  147.959595\n",
              "32      30     2  15.409967  378.313543  19.450284  5.334986  139.433690\n",
              "33      30     3  16.656367  431.285417  20.767412  5.791706  143.653253\n",
              "34      30     4  16.125668  401.925585  20.048082  5.639519  142.524274\n",
              "35      30     5  15.061636  358.378556  18.930889  5.221201  145.552216\n",
              "36      30     6  16.878373  436.544124  20.893638  5.918377  135.959963\n",
              "37      30     7  20.216380  603.807561  24.572496  7.118248  137.908773\n",
              "38      30     8  15.157459  360.750295  18.993428  5.298971  146.101030\n",
              "39      30     9  15.000260  355.959713  18.866895  5.202597  138.240873\n",
              "40      40     0  17.568640  466.783630  21.605176  6.174636  191.370584\n",
              "41      40     1  17.437317  461.494638  21.482426  6.127232  198.127547\n",
              "42      40     2  15.397955  369.706346  19.227749  5.367222  188.430756\n",
              "43      40     3  15.448308  370.301955  19.243231  5.383957  190.305205\n",
              "44      40     4  16.410107  413.077621  20.324311  5.759758  189.220214\n",
              "45      40     5  14.685841  339.661235  18.429901  5.089872  188.440455\n",
              "46      40     6  18.917671  533.176569  23.090616  6.660728  186.930768\n",
              "47      40     7  15.957208  408.789533  20.218544  5.506396  195.162170\n",
              "48      40     8  17.709993  475.612369  21.808539  6.214644  191.950861\n",
              "49      40     9  15.431485  377.971494  19.441489  5.368025  189.029960\n",
              "50      50     0  17.937931  484.954440  22.021681  6.293862  251.621316\n",
              "51      50     1  15.384080  367.483779  19.169866  5.356815  252.436677\n",
              "52      50     2  18.232893  499.372681  22.346648  6.402841  257.872724\n",
              "53      50     3  14.916967  347.196082  18.633198  5.203986  244.957552\n",
              "54      50     4  18.470940  514.403258  22.680460  6.488050  237.322231\n",
              "55      50     5  17.079273  443.215384  21.052681  5.995001  209.100802\n",
              "56      50     6  14.881234  343.470972  18.532970  5.169321  237.912954\n",
              "57      50     7  15.912704  390.033434  19.749264  5.561161  242.270167\n",
              "58      50     8  17.353007  457.300828  21.384593  6.102271  233.682414\n",
              "59      50     9  16.538022  419.686285  20.486246  5.791815  251.837168"
            ]
          },
          "execution_count": 2,
          "metadata": {},
          "output_type": "execute_result"
        }
      ],
      "source": [
        "epoch_test_finetuning = pd.read_csv('epoch_finetune_data/finetuning_test_data.csv')\n",
        "epoch_test_finetuning"
      ]
    },
    {
      "cell_type": "code",
      "execution_count": 3,
      "metadata": {},
      "outputs": [
        {
          "data": {
            "text/html": [
              "<div>\n",
              "<style scoped>\n",
              "    .dataframe tbody tr th:only-of-type {\n",
              "        vertical-align: middle;\n",
              "    }\n",
              "\n",
              "    .dataframe tbody tr th {\n",
              "        vertical-align: top;\n",
              "    }\n",
              "\n",
              "    .dataframe thead th {\n",
              "        text-align: right;\n",
              "    }\n",
              "</style>\n",
              "<table border=\"1\" class=\"dataframe\">\n",
              "  <thead>\n",
              "    <tr style=\"text-align: right;\">\n",
              "      <th></th>\n",
              "      <th>#epoch</th>\n",
              "      <th>#try</th>\n",
              "      <th>MAE</th>\n",
              "      <th>MSE</th>\n",
              "      <th>RMSE</th>\n",
              "      <th>MAPE</th>\n",
              "      <th>train_time</th>\n",
              "    </tr>\n",
              "  </thead>\n",
              "  <tbody>\n",
              "    <tr>\n",
              "      <th>count</th>\n",
              "      <td>10.0</td>\n",
              "      <td>10.00000</td>\n",
              "      <td>10.000000</td>\n",
              "      <td>10.000000</td>\n",
              "      <td>10.000000</td>\n",
              "      <td>10.000000</td>\n",
              "      <td>10.000000</td>\n",
              "    </tr>\n",
              "    <tr>\n",
              "      <th>mean</th>\n",
              "      <td>50.0</td>\n",
              "      <td>4.50000</td>\n",
              "      <td>16.670705</td>\n",
              "      <td>426.711714</td>\n",
              "      <td>20.605761</td>\n",
              "      <td>5.836512</td>\n",
              "      <td>241.901400</td>\n",
              "    </tr>\n",
              "    <tr>\n",
              "      <th>std</th>\n",
              "      <td>0.0</td>\n",
              "      <td>3.02765</td>\n",
              "      <td>1.351747</td>\n",
              "      <td>63.002699</td>\n",
              "      <td>1.532730</td>\n",
              "      <td>0.494784</td>\n",
              "      <td>13.940568</td>\n",
              "    </tr>\n",
              "    <tr>\n",
              "      <th>min</th>\n",
              "      <td>50.0</td>\n",
              "      <td>0.00000</td>\n",
              "      <td>14.881234</td>\n",
              "      <td>343.470972</td>\n",
              "      <td>18.532970</td>\n",
              "      <td>5.169321</td>\n",
              "      <td>209.100802</td>\n",
              "    </tr>\n",
              "    <tr>\n",
              "      <th>25%</th>\n",
              "      <td>50.0</td>\n",
              "      <td>2.25000</td>\n",
              "      <td>15.516236</td>\n",
              "      <td>373.121193</td>\n",
              "      <td>19.314716</td>\n",
              "      <td>5.407902</td>\n",
              "      <td>237.469912</td>\n",
              "    </tr>\n",
              "    <tr>\n",
              "      <th>50%</th>\n",
              "      <td>50.0</td>\n",
              "      <td>4.50000</td>\n",
              "      <td>16.808647</td>\n",
              "      <td>431.450834</td>\n",
              "      <td>20.769464</td>\n",
              "      <td>5.893408</td>\n",
              "      <td>243.613860</td>\n",
              "    </tr>\n",
              "    <tr>\n",
              "      <th>75%</th>\n",
              "      <td>50.0</td>\n",
              "      <td>6.75000</td>\n",
              "      <td>17.791700</td>\n",
              "      <td>478.041037</td>\n",
              "      <td>21.862409</td>\n",
              "      <td>6.245964</td>\n",
              "      <td>251.783205</td>\n",
              "    </tr>\n",
              "    <tr>\n",
              "      <th>max</th>\n",
              "      <td>50.0</td>\n",
              "      <td>9.00000</td>\n",
              "      <td>18.470940</td>\n",
              "      <td>514.403258</td>\n",
              "      <td>22.680460</td>\n",
              "      <td>6.488050</td>\n",
              "      <td>257.872724</td>\n",
              "    </tr>\n",
              "  </tbody>\n",
              "</table>\n",
              "</div>"
            ],
            "text/plain": [
              "       #epoch      #try        MAE         MSE       RMSE       MAPE  \\\n",
              "count    10.0  10.00000  10.000000   10.000000  10.000000  10.000000   \n",
              "mean     50.0   4.50000  16.670705  426.711714  20.605761   5.836512   \n",
              "std       0.0   3.02765   1.351747   63.002699   1.532730   0.494784   \n",
              "min      50.0   0.00000  14.881234  343.470972  18.532970   5.169321   \n",
              "25%      50.0   2.25000  15.516236  373.121193  19.314716   5.407902   \n",
              "50%      50.0   4.50000  16.808647  431.450834  20.769464   5.893408   \n",
              "75%      50.0   6.75000  17.791700  478.041037  21.862409   6.245964   \n",
              "max      50.0   9.00000  18.470940  514.403258  22.680460   6.488050   \n",
              "\n",
              "       train_time  \n",
              "count   10.000000  \n",
              "mean   241.901400  \n",
              "std     13.940568  \n",
              "min    209.100802  \n",
              "25%    237.469912  \n",
              "50%    243.613860  \n",
              "75%    251.783205  \n",
              "max    257.872724  "
            ]
          },
          "execution_count": 3,
          "metadata": {},
          "output_type": "execute_result"
        }
      ],
      "source": [
        "epoch5 = epoch_test_finetuning[50:60]\n",
        "epoch5.describe()"
      ]
    },
    {
      "cell_type": "code",
      "execution_count": 4,
      "metadata": {},
      "outputs": [
        {
          "data": {
            "text/html": [
              "<div>\n",
              "<style scoped>\n",
              "    .dataframe tbody tr th:only-of-type {\n",
              "        vertical-align: middle;\n",
              "    }\n",
              "\n",
              "    .dataframe tbody tr th {\n",
              "        vertical-align: top;\n",
              "    }\n",
              "\n",
              "    .dataframe thead th {\n",
              "        text-align: right;\n",
              "    }\n",
              "</style>\n",
              "<table border=\"1\" class=\"dataframe\">\n",
              "  <thead>\n",
              "    <tr style=\"text-align: right;\">\n",
              "      <th>#epoch</th>\n",
              "      <th>5</th>\n",
              "      <th>10</th>\n",
              "      <th>20</th>\n",
              "      <th>30</th>\n",
              "      <th>40</th>\n",
              "      <th>50</th>\n",
              "    </tr>\n",
              "    <tr>\n",
              "      <th>#try</th>\n",
              "      <th></th>\n",
              "      <th></th>\n",
              "      <th></th>\n",
              "      <th></th>\n",
              "      <th></th>\n",
              "      <th></th>\n",
              "    </tr>\n",
              "  </thead>\n",
              "  <tbody>\n",
              "    <tr>\n",
              "      <th>0</th>\n",
              "      <td>20.422650</td>\n",
              "      <td>21.925709</td>\n",
              "      <td>19.038973</td>\n",
              "      <td>20.986296</td>\n",
              "      <td>21.605176</td>\n",
              "      <td>22.021681</td>\n",
              "    </tr>\n",
              "    <tr>\n",
              "      <th>1</th>\n",
              "      <td>18.367137</td>\n",
              "      <td>20.048188</td>\n",
              "      <td>20.546504</td>\n",
              "      <td>19.931607</td>\n",
              "      <td>21.482426</td>\n",
              "      <td>19.169866</td>\n",
              "    </tr>\n",
              "    <tr>\n",
              "      <th>2</th>\n",
              "      <td>25.538107</td>\n",
              "      <td>19.387756</td>\n",
              "      <td>23.663993</td>\n",
              "      <td>19.450284</td>\n",
              "      <td>19.227749</td>\n",
              "      <td>22.346648</td>\n",
              "    </tr>\n",
              "    <tr>\n",
              "      <th>3</th>\n",
              "      <td>20.294729</td>\n",
              "      <td>18.514197</td>\n",
              "      <td>20.009697</td>\n",
              "      <td>20.767412</td>\n",
              "      <td>19.243231</td>\n",
              "      <td>18.633198</td>\n",
              "    </tr>\n",
              "    <tr>\n",
              "      <th>4</th>\n",
              "      <td>20.320069</td>\n",
              "      <td>21.950618</td>\n",
              "      <td>18.628566</td>\n",
              "      <td>20.048082</td>\n",
              "      <td>20.324311</td>\n",
              "      <td>22.680460</td>\n",
              "    </tr>\n",
              "    <tr>\n",
              "      <th>5</th>\n",
              "      <td>18.901558</td>\n",
              "      <td>19.118082</td>\n",
              "      <td>20.346684</td>\n",
              "      <td>18.930889</td>\n",
              "      <td>18.429901</td>\n",
              "      <td>21.052681</td>\n",
              "    </tr>\n",
              "    <tr>\n",
              "      <th>6</th>\n",
              "      <td>20.386883</td>\n",
              "      <td>21.312811</td>\n",
              "      <td>22.573524</td>\n",
              "      <td>20.893638</td>\n",
              "      <td>23.090616</td>\n",
              "      <td>18.532970</td>\n",
              "    </tr>\n",
              "    <tr>\n",
              "      <th>7</th>\n",
              "      <td>19.964481</td>\n",
              "      <td>19.075517</td>\n",
              "      <td>18.654510</td>\n",
              "      <td>24.572496</td>\n",
              "      <td>20.218544</td>\n",
              "      <td>19.749264</td>\n",
              "    </tr>\n",
              "    <tr>\n",
              "      <th>8</th>\n",
              "      <td>21.475673</td>\n",
              "      <td>18.472002</td>\n",
              "      <td>22.011396</td>\n",
              "      <td>18.993428</td>\n",
              "      <td>21.808539</td>\n",
              "      <td>21.384593</td>\n",
              "    </tr>\n",
              "    <tr>\n",
              "      <th>9</th>\n",
              "      <td>26.019420</td>\n",
              "      <td>20.204186</td>\n",
              "      <td>21.392407</td>\n",
              "      <td>18.866895</td>\n",
              "      <td>19.441489</td>\n",
              "      <td>20.486246</td>\n",
              "    </tr>\n",
              "  </tbody>\n",
              "</table>\n",
              "</div>"
            ],
            "text/plain": [
              "#epoch         5          10         20         30         40         50\n",
              "#try                                                                    \n",
              "0       20.422650  21.925709  19.038973  20.986296  21.605176  22.021681\n",
              "1       18.367137  20.048188  20.546504  19.931607  21.482426  19.169866\n",
              "2       25.538107  19.387756  23.663993  19.450284  19.227749  22.346648\n",
              "3       20.294729  18.514197  20.009697  20.767412  19.243231  18.633198\n",
              "4       20.320069  21.950618  18.628566  20.048082  20.324311  22.680460\n",
              "5       18.901558  19.118082  20.346684  18.930889  18.429901  21.052681\n",
              "6       20.386883  21.312811  22.573524  20.893638  23.090616  18.532970\n",
              "7       19.964481  19.075517  18.654510  24.572496  20.218544  19.749264\n",
              "8       21.475673  18.472002  22.011396  18.993428  21.808539  21.384593\n",
              "9       26.019420  20.204186  21.392407  18.866895  19.441489  20.486246"
            ]
          },
          "execution_count": 4,
          "metadata": {},
          "output_type": "execute_result"
        }
      ],
      "source": [
        "epoch_test_finetune_rmse = epoch_test_finetuning.pivot(index='#try', columns='#epoch', values='RMSE')\n",
        "epoch_test_finetune_rmse"
      ]
    },
    {
      "cell_type": "code",
      "execution_count": 5,
      "metadata": {},
      "outputs": [
        {
          "data": {
            "image/png": "[encoded data removed]",
            "text/plain": [
              "<Figure size 1600x800 with 1 Axes>"
            ]
          },
          "metadata": {},
          "output_type": "display_data"
        }
      ],
      "source": [
        "fig, ax = plt.subplots(figsize=(16, 8))\n",
        "\n",
        "ax.boxplot(epoch_test_finetune_rmse)\n",
        "ax.set_xticklabels(['5', '10', '20', '30', '40', '50'])\n",
        "ax.set_title(\"Boxplot Hasil Fine Tuning Parameter Epoch\")\n",
        "ax.set_xlabel('Number of epochs')\n",
        "ax.set_ylabel('RMSE Values (lower is better)')\n",
        "plt.savefig('epoch_finetune_data/epoch_boxplot.png', facecolor=(1, 1, 1))"
      ]
    },
    {
      "cell_type": "code",
      "execution_count": null,
      "metadata": {},
      "outputs": [],
      "source": [
        "epoch_history_finetuning = pd.DataFrame(epoch_finetune_history, columns=['#epoch', '#try', 'loss', 'val_loss', 'mae', 'val_mae', 'train_time'])\n",
        "epoch_history_finetuning"
      ]
    },
    {
      "cell_type": "code",
      "execution_count": null,
      "metadata": {},
      "outputs": [],
      "source": [
        "epoch_history_finetuning.to_csv('neuron_finetune_data/finetuning_history_data.csv', index=False)"
      ]
    },
    {
      "cell_type": "markdown",
      "metadata": {},
      "source": [
        "### Neuron Number Finetuning"
      ]
    },
    {
      "cell_type": "code",
      "execution_count": null,
      "metadata": {},
      "outputs": [],
      "source": [
        "epoch_final = 10\n",
        "neurons = [16, 32, 64, 128]\n",
        "\n",
        "neuron_finetune_history = []\n",
        "neuron_finetune_test = []"
      ]
    },
    {
      "cell_type": "code",
      "execution_count": null,
      "metadata": {},
      "outputs": [],
      "source": [
        "combined_data = dataset_df[['Close', 'Compound']].copy()\n",
        "\n",
        "train_portion = 0.8\n",
        "timestep = 60"
      ]
    },
    {
      "cell_type": "code",
      "execution_count": null,
      "metadata": {},
      "outputs": [],
      "source": [
        "for i in range(len(neurons)):\n",
        "    \n",
        "    fig, ax = plt.subplots(figsize=(16, 8))\n",
        "    ax.set_title('Loss value for ' + str(neurons[i]) + ' neurons')\n",
        "    ax.set_xlabel('epochs')\n",
        "    ax.set_ylabel('error value')\n",
        "    ax.xaxis.grid(True, which='both', alpha=0.5)\n",
        "    ax.yaxis.grid(True, alpha=0.5)\n",
        "\n",
        "    for j in range(20):\n",
        "\n",
        "        x_train, y_train, x_test, y_test, scaler = SplitData(combined_data, train_portion, timestep)\n",
        "\n",
        "        start_time = time.time()\n",
        "        sentimentModel, history = TrainModelFineTune(x_train, y_train, epoch_final, neurons[i])\n",
        "        end_time = time.time()\n",
        "        training_time = end_time - start_time\n",
        "\n",
        "        predictions = sentimentModel.predict(x_test)\n",
        "        predictions = scaler.inverse_transform(predictions)\n",
        "\n",
        "        mae = np.mean(np.abs(predictions - y_test))\n",
        "        mse = np.mean((predictions - y_test)**2)\n",
        "        rmse = np.sqrt(mse)\n",
        "        mape = np.mean(np.abs((y_test - predictions)/y_test)) * 100\n",
        "\n",
        "        neuron_finetune_test.append([neurons[i], j, mae, mse, rmse, mape, training_time])\n",
        "\n",
        "        history_data = history.history\n",
        "    \n",
        "        loss_values = history_data['loss']\n",
        "        val_loss_values = history_data['val_loss']\n",
        "\n",
        "        neuron_finetune_history.append([neurons[i], j, history_data['loss'], history_data['val_loss'], history_data['mae'], history_data['val_mae'], training_time])\n",
        "\n",
        "        ax.plot(loss_values, color = 'blue')\n",
        "        ax.plot(val_loss_values, color='red')\n",
        "\n",
        "    plt.savefig('neuron_finetune_data/'+ str(neurons[i]) +'_neuron_diagnostic.png', facecolor=(1, 1, 1))"
      ]
    },
    {
      "cell_type": "code",
      "execution_count": null,
      "metadata": {},
      "outputs": [],
      "source": [
        "neuron_test_finetuning = pd.DataFrame(neuron_finetune_test, columns=['#neuron', '#try', 'MAE', 'MSE', 'RMSE', 'MAPE', 'train_time'])\n",
        "neuron_test_finetuning"
      ]
    },
    {
      "cell_type": "code",
      "execution_count": null,
      "metadata": {},
      "outputs": [],
      "source": [
        "neuron_test_finetuning.to_csv('neuron_finetune_data/finetuning_test_data.csv', index=False)"
      ]
    },
    {
      "cell_type": "code",
      "execution_count": null,
      "metadata": {},
      "outputs": [],
      "source": [
        "neuron_test_finetuning = pd.read_csv('neuron_finetune_data/finetuning_test_data.csv')\n",
        "neuron_test_finetuning"
      ]
    },
    {
      "cell_type": "code",
      "execution_count": null,
      "metadata": {},
      "outputs": [],
      "source": [
        "y = neuron_test_finetuning[60:80]\n",
        "y.drop(60).drop(67).drop(75).describe()"
      ]
    },
    {
      "cell_type": "code",
      "execution_count": null,
      "metadata": {},
      "outputs": [],
      "source": [
        "neuron_test_finetune_rmse = neuron_test_finetuning.pivot(index='#try', columns='#neuron', values='RMSE')\n",
        "neuron_test_finetune_rmse"
      ]
    },
    {
      "cell_type": "code",
      "execution_count": null,
      "metadata": {},
      "outputs": [],
      "source": [
        "fig, ax = plt.subplots(figsize=(16, 8))\n",
        "\n",
        "ax.boxplot(neuron_test_finetune_rmse)\n",
        "ax.set_xticklabels(['16', '32', '64', '128'])\n",
        "ax.set_title(\"Boxplot Hasil Fine Tuning Parameter LSTM Unit\")\n",
        "ax.set_xlabel('Number of neurons')\n",
        "ax.set_ylabel('RMSE Values (lower is better)')\n",
        "plt.savefig('neuron_finetune_data/neuron_boxplot.png', facecolor=(1, 1, 1))"
      ]
    },
    {
      "cell_type": "code",
      "execution_count": null,
      "metadata": {},
      "outputs": [],
      "source": [
        "neuron_history_finetuning = pd.DataFrame(neuron_finetune_history, columns=['#neuron', '#try', 'loss', 'val_loss', 'mae', 'val_mae', 'train_time'])\n",
        "neuron_history_finetuning"
      ]
    },
    {
      "cell_type": "code",
      "execution_count": null,
      "metadata": {},
      "outputs": [],
      "source": [
        "neuron_history_finetuning.to_csv('neuron_finetune_data/finetuning_history_data.csv', index=False)"
      ]
    },
    {
      "cell_type": "code",
      "execution_count": null,
      "metadata": {},
      "outputs": [],
      "source": [
        "neuron_history_finetuning = pd.read_csv('neuron_finetune_data/finetuning_history_data.csv')\n",
        "neuron_history_finetuning"
      ]
    },
    {
      "cell_type": "markdown",
      "metadata": {},
      "source": [
        "# COMPARE"
      ]
    },
    {
      "cell_type": "code",
      "execution_count": null,
      "metadata": {},
      "outputs": [],
      "source": [
        "model_mode = ['single', 'combined']\n",
        "\n",
        "compare_finetune_history = []\n",
        "compare_finetune_test = []"
      ]
    },
    {
      "cell_type": "code",
      "execution_count": null,
      "metadata": {},
      "outputs": [],
      "source": [
        "single_data = dataset_df['Close']\n",
        "combined_data = dataset_df[['Close', 'Compound']].copy()\n",
        "\n",
        "train_portion = 0.8\n",
        "timestep = 60"
      ]
    },
    {
      "cell_type": "code",
      "execution_count": null,
      "metadata": {},
      "outputs": [],
      "source": [
        "for i in range(len(model_mode)):\n",
        "    \n",
        "    fig, ax = plt.subplots(figsize=(16, 8))\n",
        "    ax.set_title('Loss value for ' + str(model_mode[i]) + ' mode')\n",
        "    ax.set_xlabel('epochs')\n",
        "    ax.set_ylabel('error value')\n",
        "    ax.xaxis.grid(True, which='both', alpha=0.5)\n",
        "    ax.yaxis.grid(True, alpha=0.5)\n",
        "\n",
        "    for j in range(30):\n",
        "        \n",
        "        if (model_mode == 'single'):\n",
        "            x_train, y_train, x_test, y_test, scaler = SplitData(single_data, train_portion, timestep)\n",
        "        else:\n",
        "            x_train, y_train, x_test, y_test, scaler = SplitData(combined_data, train_portion, timestep)\n",
        "\n",
        "        start_time = time.time()\n",
        "        sentimentModel, history = TrainModelFineTune(x_train, y_train, 10, 64)\n",
        "        end_time = time.time()\n",
        "        training_time = end_time - start_time\n",
        "\n",
        "        predictions = sentimentModel.predict(x_test)\n",
        "        predictions = scaler.inverse_transform(predictions)\n",
        "\n",
        "        mae = np.mean(np.abs(predictions - y_test))\n",
        "        mse = np.mean((predictions - y_test)**2)\n",
        "        rmse = np.sqrt(mse)\n",
        "        mape = np.mean(np.abs((y_test - predictions)/y_test)) * 100\n",
        "\n",
        "        compare_finetune_test.append([model_mode[i], j, mae, mse, rmse, mape, training_time])\n",
        "\n",
        "        history_data = history.history\n",
        "    \n",
        "        loss_values = history_data['loss']\n",
        "        val_loss_values = history_data['val_loss']\n",
        "\n",
        "        compare_finetune_history.append([model_mode[i], j, history_data['loss'], history_data['val_loss'], history_data['mae'], history_data['val_mae'], training_time])\n",
        "\n",
        "        ax.plot(loss_values, color = 'blue')\n",
        "        ax.plot(val_loss_values, color='red')\n",
        "\n",
        "    plt.savefig('compare_finetune_data/'+ str(model_mode[i]) +'_mode_diagnostic.png', facecolor=(1, 1, 1))"
      ]
    },
    {
      "cell_type": "code",
      "execution_count": null,
      "metadata": {},
      "outputs": [],
      "source": [
        "compare_test_finetuning = pd.DataFrame(compare_finetune_test, columns=['mode', '#try', 'MAE', 'MSE', 'RMSE', 'MAPE', 'train_time'])\n",
        "compare_test_finetuning"
      ]
    },
    {
      "cell_type": "code",
      "execution_count": null,
      "metadata": {},
      "outputs": [],
      "source": [
        "compare_test_finetuning.to_csv('compare_finetune_data/finetuning_test_data.csv', index=False)"
      ]
    },
    {
      "cell_type": "code",
      "execution_count": null,
      "metadata": {},
      "outputs": [],
      "source": [
        "compare_test_finetuning = pd.read_csv('compare_finetune_data/finetuning_test_data.csv')\n",
        "compare_test_finetuning"
      ]
    },
    {
      "cell_type": "code",
      "execution_count": null,
      "metadata": {},
      "outputs": [],
      "source": [
        "xyz = compare_test_finetuning[30:60]\n",
        "xyz.describe()"
      ]
    },
    {
      "cell_type": "code",
      "execution_count": null,
      "metadata": {},
      "outputs": [],
      "source": [
        "compare_test_finetune_rmse = compare_test_finetuning.pivot(index='#try', columns='mode', values='RMSE')\n",
        "compare_test_finetune_rmse"
      ]
    },
    {
      "cell_type": "code",
      "execution_count": null,
      "metadata": {},
      "outputs": [],
      "source": [
        "fig, ax = plt.subplots(figsize=(16, 8))\n",
        "\n",
        "ax.boxplot(compare_test_finetune_rmse)\n",
        "ax.set_xticklabels(['Combined Dataset', 'Single Dataset'])\n",
        "ax.set_title(\"Perbandingan Model untuk Combined Dataset vs Single Dataset\")\n",
        "ax.set_ylabel('RMSE Values (lower is better)')\n",
        "ax.grid()\n",
        "plt.savefig('compare_finetune_data/comparison_boxplot.png', facecolor=(1, 1, 1))"
      ]
    },
    {
      "cell_type": "code",
      "execution_count": null,
      "metadata": {},
      "outputs": [],
      "source": [
        "compare_history_finetuning = pd.DataFrame(compare_finetune_history, columns=['mode', '#try', 'loss', 'val_loss', 'mae', 'val_mae', 'train_time'])\n",
        "compare_history_finetuning"
      ]
    },
    {
      "cell_type": "code",
      "execution_count": null,
      "metadata": {},
      "outputs": [],
      "source": [
        "compare_history_finetuning.to_csv('compare_finetune_data/finetuning_history_data.csv', index=False)"
      ]
    },
    {
      "cell_type": "code",
      "execution_count": null,
      "metadata": {},
      "outputs": [],
      "source": [
        "compare_history_finetuning = pd.read_csv('compare_finetune_data/finetuning_history_data.csv')\n",
        "compare_history_finetuning"
      ]
    }
  ],
  "metadata": {
    "colab": {
      "provenance": []
    },
    "kernelspec": {
      "display_name": "Python 3",
      "name": "python3"
    },
    "language_info": {
      "codemirror_mode": {
        "name": "ipython",
        "version": 3
      },
      "file_extension": ".py",
      "mimetype": "text/x-python",
      "name": "python",
      "nbconvert_exporter": "python",
      "pygments_lexer": "ipython3",
      "version": "3.10.6"
    }
  },
  "nbformat": 4,
  "nbformat_minor": 0
}
